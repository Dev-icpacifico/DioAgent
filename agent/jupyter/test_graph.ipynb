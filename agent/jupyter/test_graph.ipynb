{
 "cells": [
  {
   "cell_type": "code",
   "id": "initial_id",
   "metadata": {
    "collapsed": true,
    "ExecuteTime": {
     "end_time": "2025-06-03T14:42:49.288793Z",
     "start_time": "2025-06-03T14:42:18.646937Z"
    }
   },
   "source": [
    "%%capture --no-stderr\n",
    "%pip install --quiet -U langchain_openai langchain_core langgraph langchain_community langchain_anthropic langchain_experimental faiss-cpu tiktoken pypdf langchain openai langchain_anthropic langchain_experimental"
   ],
   "outputs": [
    {
     "name": "stderr",
     "output_type": "stream",
     "text": [
      "\n",
      "[notice] A new release of pip is available: 23.2.1 -> 25.1.1\n",
      "[notice] To update, run: python.exe -m pip install --upgrade pip\n"
     ]
    }
   ],
   "execution_count": 1
  },
  {
   "metadata": {
    "ExecuteTime": {
     "end_time": "2025-06-03T15:21:21.214728Z",
     "start_time": "2025-06-03T15:21:21.210088Z"
    }
   },
   "cell_type": "code",
   "source": [
    "# Importación de librerias\n",
    "# LangGraph\n",
    "from langgraph.graph import START, END, StateGraph\n",
    "from langgraph.types import Command\n",
    "from langgraph.prebuilt import create_react_agent\n",
    "\n",
    "# LangChain\n",
    "from langchain_core.messages import HumanMessage\n",
    "from langchain_openai import ChatOpenAI, OpenAIEmbeddings\n",
    "from langchain_community.tools.tavily_search import TavilySearchResults\n",
    "from langchain.tools.retriever import create_retriever_tool\n",
    "from langchain.vectorstores import FAISS\n",
    "from langchain_text_splitters import RecursiveCharacterTextSplitter\n",
    "from langchain_community.document_loaders import PyPDFLoader\n",
    "from langchain_core.prompts import ChatPromptTemplate\n",
    "from langchain_core.messages import AIMessage\n",
    "\n",
    "# Utilidades\n",
    "from typing import TypedDict, Optional, Dict, List, Literal, Annotated\n",
    "from dotenv import load_dotenv, find_dotenv\n",
    "import tiktoken\n",
    "from IPython.display import Image, display\n"
   ],
   "id": "f1c71811152c1c6c",
   "outputs": [],
   "execution_count": 74
  },
  {
   "metadata": {
    "ExecuteTime": {
     "end_time": "2025-06-03T15:21:21.966122Z",
     "start_time": "2025-06-03T15:21:21.961118Z"
    }
   },
   "cell_type": "code",
   "source": [
    "# Carga de variables de entorno\n",
    "dotenv_path = find_dotenv()\n",
    "load_dotenv(dotenv_path)"
   ],
   "id": "8dab701c8c936b91",
   "outputs": [
    {
     "data": {
      "text/plain": [
       "True"
      ]
     },
     "execution_count": 75,
     "metadata": {},
     "output_type": "execute_result"
    }
   ],
   "execution_count": 75
  },
  {
   "metadata": {
    "ExecuteTime": {
     "end_time": "2025-06-03T15:27:44.721086Z",
     "start_time": "2025-06-03T15:27:44.718272Z"
    }
   },
   "cell_type": "code",
   "source": [
    "def count_tokens_in_docs(docs, model_name=\"gpt-4o\"):\n",
    "    \"\"\"\n",
    "    Calcula la cantidad total de tokens para una lista de documentos\n",
    "    usando la librería tiktoken.\n",
    "\n",
    "    :param docs: Lista de documentos (por ejemplo, la salida de un loader PDF).\n",
    "    :param model_name: Nombre del modelo para el que queremos simular el conteo.\n",
    "    :return: Número total de tokens en el contenido de los documentos.\n",
    "    \"\"\"\n",
    "    # Obtenemos la codificación que usa el modelo seleccionado\n",
    "    encoding = tiktoken.encoding_for_model(model_name)\n",
    "\n",
    "    total_tokens = 0\n",
    "    for doc in docs:\n",
    "        # doc.page_content es el texto de cada página/documento\n",
    "        text = doc.page_content\n",
    "        total_tokens += len(encoding.encode(text))\n",
    "\n",
    "    return total_tokens"
   ],
   "id": "6bbaedc374b5fc8f",
   "outputs": [],
   "execution_count": 107
  },
  {
   "metadata": {
    "ExecuteTime": {
     "end_time": "2025-06-03T15:27:45.166541Z",
     "start_time": "2025-06-03T15:27:45.156103Z"
    }
   },
   "cell_type": "code",
   "source": [
    "# 2. CARGA DEL PDF\n",
    "# ----------------------------------------------------------------------------\n",
    "file_path = \"guia_condominio_altavista_completa.pdf\"\n",
    "loader = PyPDFLoader(file_path)\n",
    "docs = loader.load()"
   ],
   "id": "5e87f55e12c0fe84",
   "outputs": [],
   "execution_count": 108
  },
  {
   "metadata": {
    "ExecuteTime": {
     "end_time": "2025-06-03T15:27:45.811777Z",
     "start_time": "2025-06-03T15:27:45.808778Z"
    }
   },
   "cell_type": "code",
   "source": [
    "# Cantidad de documentos extraídos (páginas, secciones, etc. según PyPDFLoader)\n",
    "print(\"Número de docs cargados:\", len(docs))\n",
    "\n",
    "# Opcional: vista previa de los primeros 100 caracteres de la primera página\n",
    "print(\"Preview contenido:\", docs[0].page_content[0:100])\n",
    "print(\"Metadata:\", docs[0].metadata)"
   ],
   "id": "a1c9adbdeae1019a",
   "outputs": [
    {
     "name": "stdout",
     "output_type": "stream",
     "text": [
      "Número de docs cargados: 3\n",
      "Preview contenido: Guía Informativa - Condominio Altavista Norte\n",
      "1. Introducción\n",
      "Bienvenido a la guía informativa del p\n",
      "Metadata: {'producer': 'PyFPDF 1.7.2 http://pyfpdf.googlecode.com/', 'creator': 'PyPDF', 'creationdate': 'D:20250603140113', 'source': 'guia_condominio_altavista_completa.pdf', 'total_pages': 3, 'page': 0, 'page_label': '1'}\n"
     ]
    }
   ],
   "execution_count": 109
  },
  {
   "metadata": {
    "ExecuteTime": {
     "end_time": "2025-06-03T15:31:56.489031Z",
     "start_time": "2025-06-03T15:31:56.484106Z"
    }
   },
   "cell_type": "code",
   "source": [
    "# 3. CONTAR TOKENS ANTES DE HACER NADA\n",
    "# ----------------------------------------------------------------------------\n",
    "tokens_en_documento = count_tokens_in_docs(docs, model_name=\"gpt-4o\")\n",
    "print(\"Tokens en el documento completo:\", tokens_en_documento)"
   ],
   "id": "ffd21a968ea80b1f",
   "outputs": [
    {
     "name": "stdout",
     "output_type": "stream",
     "text": [
      "Tokens en el documento completo: 1066\n"
     ]
    }
   ],
   "execution_count": 130
  },
  {
   "metadata": {
    "ExecuteTime": {
     "end_time": "2025-06-03T15:31:57.833343Z",
     "start_time": "2025-06-03T15:31:57.829975Z"
    }
   },
   "cell_type": "code",
   "source": [
    "text_splitter = RecursiveCharacterTextSplitter(chunk_size=500, chunk_overlap=100)\n",
    "splits = text_splitter.split_documents(docs)"
   ],
   "id": "a07036305de031cd",
   "outputs": [],
   "execution_count": 131
  },
  {
   "metadata": {
    "ExecuteTime": {
     "end_time": "2025-06-03T15:32:01.800972Z",
     "start_time": "2025-06-03T15:32:00.532803Z"
    }
   },
   "cell_type": "code",
   "source": [
    "# Crea los embeddings\n",
    "embeddings = OpenAIEmbeddings()\n",
    "vectorstore = FAISS.from_documents(splits, embeddings)\n",
    "\n",
    "# Crea el retriever\n",
    "# retriever = vectorstore.as_retriever(search_kwargs={\"k\": 3})\n",
    "retriever = vectorstore.as_retriever(search_kwargs={\"k\": 10, \"score_threshold\": 0.3})\n"
   ],
   "id": "917ed8c1583357d9",
   "outputs": [],
   "execution_count": 132
  },
  {
   "metadata": {
    "ExecuteTime": {
     "end_time": "2025-06-03T15:32:01.807241Z",
     "start_time": "2025-06-03T15:32:01.804246Z"
    }
   },
   "cell_type": "code",
   "source": [
    "# Modelo utilizado\n",
    "llm = ChatOpenAI(model=\"gpt-4o\")"
   ],
   "id": "dfe000167e2aa904",
   "outputs": [],
   "execution_count": 133
  },
  {
   "metadata": {
    "ExecuteTime": {
     "end_time": "2025-06-03T15:32:01.817144Z",
     "start_time": "2025-06-03T15:32:01.814560Z"
    }
   },
   "cell_type": "code",
   "source": [
    "# Creación del estado\n",
    "class GlobalState(TypedDict): # Estado Globa\n",
    "    graph: str\n",
    "    messages: list[dict] # Es una lista de diccionarios\n",
    "    next: str\n",
    "    \n",
    "class SearchState(TypedDict):\n",
    "    search: List[dict]"
   ],
   "id": "684c0dfb8995e930",
   "outputs": [],
   "execution_count": 134
  },
  {
   "metadata": {
    "ExecuteTime": {
     "end_time": "2025-06-03T15:32:01.827757Z",
     "start_time": "2025-06-03T15:32:01.825051Z"
    }
   },
   "cell_type": "code",
   "source": [
    "# Miembros del equipo\n",
    "members = [\"retriever\", \"dio\"]\n",
    "options = members + [\"FINISH\"]"
   ],
   "id": "1e86172fde9dd4ac",
   "outputs": [],
   "execution_count": 135
  },
  {
   "metadata": {
    "ExecuteTime": {
     "end_time": "2025-06-03T15:32:02.388573Z",
     "start_time": "2025-06-03T15:32:02.385478Z"
    }
   },
   "cell_type": "code",
   "source": [
    "# Router con opciones para el llm\n",
    "class Router(TypedDict):\n",
    "    \"\"\"Worker to route to next. If no workers needed, route to FINISH.\"\"\"\n",
    "\n",
    "    next: Literal[\"retriever\", \"dio\", \"FINISH\"]"
   ],
   "id": "8c77dbaba617dcb",
   "outputs": [],
   "execution_count": 136
  },
  {
   "metadata": {
    "ExecuteTime": {
     "end_time": "2025-06-03T15:32:02.575861Z",
     "start_time": "2025-06-03T15:32:02.569100Z"
    }
   },
   "cell_type": "code",
   "source": [
    "# Definir un nodo info o agent principal\n",
    "system_prompt_dio = \"Eres Dio un asistente virtual creado para responder las dudas y consultas de nuestros clientes respecto a los depatamentos y condominios que vende Inmobiliaira costanera pacifico. Tu trabajo consiste en responder a las preguntas de los clientes solo con la información del documento cargado que tienes y nada más\"\n",
    "info_agent = create_react_agent(\n",
    "    llm,\n",
    "    tools=[],\n",
    "    prompt=ChatPromptTemplate.from_messages([\n",
    "        (\"system\", system_prompt_dio),\n",
    "        (\"human\", \"{messages}\")\n",
    "    ])\n",
    ")\n",
    "\n",
    "def dio(state: GlobalState) -> Command[Literal[\"supervisor\"]]:\n",
    "    result = info_agent.invoke(state)\n",
    "    print(\"RESPUESTA DE DIO: \\n\")\n",
    "    print(result[\"messages\"])\n",
    "    return Command(\n",
    "        goto=\"supervisor\",\n",
    "        update={\"messages\": result[\"messages\"]}\n",
    "    )"
   ],
   "id": "82e6f6450a16d90",
   "outputs": [],
   "execution_count": 137
  },
  {
   "metadata": {
    "ExecuteTime": {
     "end_time": "2025-06-03T15:32:03.222261Z",
     "start_time": "2025-06-03T15:32:03.218590Z"
    }
   },
   "cell_type": "code",
   "source": [
    "# Crea una herramienta a partir del retriever\n",
    "retriever_tool = create_retriever_tool(\n",
    "    retriever,\n",
    "    name=\"info_retriever\",\n",
    "    description=\"Busca información en el pdf de los condominios.\"\n",
    ")"
   ],
   "id": "13a6076cbee3eafe",
   "outputs": [],
   "execution_count": 138
  },
  {
   "metadata": {
    "ExecuteTime": {
     "end_time": "2025-06-03T15:32:03.639455Z",
     "start_time": "2025-06-03T15:32:03.632143Z"
    }
   },
   "cell_type": "code",
   "source": [
    "# Crea el agente con la herramienta\n",
    "retriever_agent = create_react_agent(\n",
    "    llm,\n",
    "    tools=[retriever_tool],\n",
    "    prompt=\"Eres un agente experto en responder preguntas sobre lso condominios y depatamentos que vendemos,\"\n",
    ")"
   ],
   "id": "99b2f713bd49a4d2",
   "outputs": [],
   "execution_count": 139
  },
  {
   "metadata": {
    "ExecuteTime": {
     "end_time": "2025-06-03T15:32:04.039355Z",
     "start_time": "2025-06-03T15:32:04.036159Z"
    }
   },
   "cell_type": "code",
   "source": [
    "def retriever_node(state: GlobalState) -> Command[Literal[\"supervisor\"]]:\n",
    "    result = retriever_agent.invoke(state)\n",
    "    return Command(\n",
    "        goto=\"supervisor\",\n",
    "        update={\n",
    "            \"messages\": result[\"messages\"]\n",
    "        }\n",
    "    )"
   ],
   "id": "b18ba47e7965deff",
   "outputs": [],
   "execution_count": 140
  },
  {
   "metadata": {
    "ExecuteTime": {
     "end_time": "2025-06-03T15:32:04.578177Z",
     "start_time": "2025-06-03T15:32:04.574671Z"
    }
   },
   "cell_type": "code",
   "source": [
    "system_prompt = (\n",
    "    \"Tu nombre es Dio, un Agente virtual que apoya las gestiones en el área de Ventas \"\n",
    "    \"de la empresa Inmobiliaria Costanera Pacifico. Tu función principal es responder a las preguntas de los clientes \"\n",
    "    f\"derivándolas a los siguientes agentes especializados: {members}.\\n\\n\"\n",
    "    \n",
    "    \"El agente especializado 'retriever' se encarga de recuperar información desde un documento llamado 'guia_condominio_altavista_completa' y responder a los clientes cuando hagan preguntas respecto a los deptos, condominio, bodegas, estacionamientos, etc cualquier pregunta relacionada a los deptos y condominio.\\n\\n\"\n",
    "    \n",
    "    \"Tu tarea es analizar la pregunta del usuario y decidir cuál agente debe actuar en función de la solicitud.\\n\"\n",
    "    \"Si la solicitud es general o informal, selecciona el agente más apropiado para responder o investigar.\\n\"\n",
    "    \"Responde 'FINISH' el miembro a quien designaste la tarea ya la finalizó.\\n\\n\"\n",
    "    \n",
    "    \"Devuelve **únicamente** el nombre del trabajador a activar (por ejemplo: retriever), o 'FINISH' si todo ha concluido.\"\n",
    ")"
   ],
   "id": "d72b3046e80c2bf2",
   "outputs": [],
   "execution_count": 141
  },
  {
   "metadata": {
    "ExecuteTime": {
     "end_time": "2025-06-03T15:32:05.091959Z",
     "start_time": "2025-06-03T15:32:05.086622Z"
    }
   },
   "cell_type": "code",
   "source": [
    "def supervisor_node(state: GlobalState) -> Command[Literal[\"retriever\",\"dio\",\"__end__\"]]:\n",
    "    print(\"Este es el mensaje que recibe el supervisor: \\n\")\n",
    "    print(state[\"messages\"])\n",
    "    ultimo_ai = next((msg for msg in reversed(state[\"messages\"]) if isinstance(msg, AIMessage)), None)\n",
    "    print(\"ULTIMO AI: \", ultimo_ai)\n",
    "    # if ultimo_ai:\n",
    "    if isinstance(state[\"messages\"][-1], AIMessage):\n",
    "        # ultimo_ai= ultimo_ai.content\n",
    "        # ultimo_ai= list(ultimo_ai)\n",
    "        # messages = [{\"role\":\"system\", \"content\":system_prompt},] + ultimo_ai\n",
    "        goto = \"FINISH\"\n",
    "    else:\n",
    "        messages = [{\"role\":\"system\", \"content\":system_prompt},] + state[\"messages\"]\n",
    "        response = llm.with_structured_output(Router).invoke(messages)\n",
    "        goto = response[\"next\"]\n",
    "    print(\"DIRIGIENDO FLUJO A: \", goto)\n",
    "    if goto == \"FINISH\":\n",
    "        goto = END\n",
    "    \n",
    "    return Command(goto=goto, update = {\"next\":goto})"
   ],
   "id": "2aa0499e796d4fc",
   "outputs": [],
   "execution_count": 142
  },
  {
   "metadata": {
    "ExecuteTime": {
     "end_time": "2025-06-03T15:32:06.343497Z",
     "start_time": "2025-06-03T15:32:05.953674Z"
    }
   },
   "cell_type": "code",
   "source": [
    "builder = StateGraph(GlobalState)\n",
    "builder.add_edge(START, \"supervisor\")\n",
    "builder.add_node(\"dio\", dio)\n",
    "builder.add_node(\"supervisor\", supervisor_node)\n",
    "builder.add_node(\"retriever\",retriever_node)\n",
    "\n",
    "graph =  builder.compile()\n",
    "display(Image(graph.get_graph().draw_mermaid_png()))"
   ],
   "id": "2ecfcb79385e328c",
   "outputs": [
    {
     "data": {
      "image/png": "[encoded data removed]",
      "text/plain": [
       "<IPython.core.display.Image object>"
      ]
     },
     "metadata": {},
     "output_type": "display_data"
    }
   ],
   "execution_count": 143
  },
  {
   "metadata": {
    "ExecuteTime": {
     "end_time": "2025-06-03T16:45:34.288072Z",
     "start_time": "2025-06-03T16:45:27.388776Z"
    }
   },
   "cell_type": "code",
   "source": [
    "sal = graph.invoke({\"messages\": [\"¿Qué hay en las cercanias del condominio?\"]})\n",
    "for m in sal[\"messages\"]:\n",
    "    m.pretty_print()"
   ],
   "id": "5b011bf70bcd0a80",
   "outputs": [
    {
     "name": "stdout",
     "output_type": "stream",
     "text": [
      "Este es el mensaje que recibe el supervisor: \n",
      "\n",
      "['¿Qué hay en las cercanias del condominio?']\n",
      "ULTIMO AI:  None\n",
      "DIRIGIENDO FLUJO A:  retriever\n",
      "Este es el mensaje que recibe el supervisor: \n",
      "\n",
      "[HumanMessage(content='¿Qué hay en las cercanias del condominio?', additional_kwargs={}, response_metadata={}, id='8b330df8-7c2d-4c11-bb3c-663573384a10'), AIMessage(content='', additional_kwargs={'tool_calls': [{'id': 'call_N6ze0jRRKssnkVXkRrGoZBb5', 'function': {'arguments': '{\"query\":\"cercanias del condominio\"}', 'name': 'info_retriever'}, 'type': 'function'}], 'refusal': None}, response_metadata={'token_usage': {'completion_tokens': 22, 'prompt_tokens': 92, 'total_tokens': 114, 'completion_tokens_details': {'accepted_prediction_tokens': 0, 'audio_tokens': 0, 'reasoning_tokens': 0, 'rejected_prediction_tokens': 0}, 'prompt_tokens_details': {'audio_tokens': 0, 'cached_tokens': 0}}, 'model_name': 'gpt-4o-2024-08-06', 'system_fingerprint': 'fp_a288987b44', 'id': 'chatcmpl-BeP3S6OQweIJNN91cvoFgd3LJMMbm', 'service_tier': 'default', 'finish_reason': 'tool_calls', 'logprobs': None}, id='run--b35a40a6-b5d6-41fb-bab6-d7317dcb99f6-0', tool_calls=[{'name': 'info_retriever', 'args': {'query': 'cercanias del condominio'}, 'id': 'call_N6ze0jRRKssnkVXkRrGoZBb5', 'type': 'tool_call'}], usage_metadata={'input_tokens': 92, 'output_tokens': 22, 'total_tokens': 114, 'input_token_details': {'audio': 0, 'cache_read': 0}, 'output_token_details': {'audio': 0, 'reasoning': 0}}), ToolMessage(content='', name='info_retriever', id='ee6a5683-3181-4d27-86da-3b5954d015ae', tool_call_id='call_N6ze0jRRKssnkVXkRrGoZBb5'), AIMessage(content='Para proporcionarte información precisa sobre las cercanías del condominio, necesito realizar una búsqueda en nuestros documentos. Un momento por favor.', additional_kwargs={'tool_calls': [{'id': 'call_5UcDGzm19tYmR4iXnx9k5HPD', 'function': {'arguments': '{\"query\":\"cercanías del condominio\"}', 'name': 'info_retriever'}, 'type': 'function'}], 'refusal': None}, response_metadata={'token_usage': {'completion_tokens': 50, 'prompt_tokens': 124, 'total_tokens': 174, 'completion_tokens_details': {'accepted_prediction_tokens': 0, 'audio_tokens': 0, 'reasoning_tokens': 0, 'rejected_prediction_tokens': 0}, 'prompt_tokens_details': {'audio_tokens': 0, 'cached_tokens': 0}}, 'model_name': 'gpt-4o-2024-08-06', 'system_fingerprint': 'fp_a288987b44', 'id': 'chatcmpl-BeP3U28sWJ1bGgQKvXzSpP4qmqYAs', 'service_tier': 'default', 'finish_reason': 'tool_calls', 'logprobs': None}, id='run--98cbb555-f9c7-4c76-abb5-0fd91216594d-0', tool_calls=[{'name': 'info_retriever', 'args': {'query': 'cercanías del condominio'}, 'id': 'call_5UcDGzm19tYmR4iXnx9k5HPD', 'type': 'tool_call'}], usage_metadata={'input_tokens': 124, 'output_tokens': 50, 'total_tokens': 174, 'input_token_details': {'audio': 0, 'cache_read': 0}, 'output_token_details': {'audio': 0, 'reasoning': 0}}), ToolMessage(content='', name='info_retriever', id='a5ac1baa-a672-4e78-b2d2-2dd8c0669650', tool_call_id='call_5UcDGzm19tYmR4iXnx9k5HPD'), AIMessage(content='Parece que no tengo información específica sobre las cercanías del condominio en este momento. Si necesitas detalles adicionales, te recomendaría consultar con el agente de ventas o el representante del edificio para obtener información más precisa sobre las amenidades y localizaciones cercanas. Si tienes alguna otra pregunta, por favor házmelo saber.', additional_kwargs={'refusal': None}, response_metadata={'token_usage': {'completion_tokens': 67, 'prompt_tokens': 187, 'total_tokens': 254, 'completion_tokens_details': {'accepted_prediction_tokens': 0, 'audio_tokens': 0, 'reasoning_tokens': 0, 'rejected_prediction_tokens': 0}, 'prompt_tokens_details': {'audio_tokens': 0, 'cached_tokens': 0}}, 'model_name': 'gpt-4o-2024-08-06', 'system_fingerprint': 'fp_a288987b44', 'id': 'chatcmpl-BeP3X150HQFCQFZbCnExAUMXMBWhH', 'service_tier': 'default', 'finish_reason': 'stop', 'logprobs': None}, id='run--cfe669c0-406c-4479-9dba-296fc2f9dcf8-0', usage_metadata={'input_tokens': 187, 'output_tokens': 67, 'total_tokens': 254, 'input_token_details': {'audio': 0, 'cache_read': 0}, 'output_token_details': {'audio': 0, 'reasoning': 0}})]\n",
      "ULTIMO AI:  content='Parece que no tengo información específica sobre las cercanías del condominio en este momento. Si necesitas detalles adicionales, te recomendaría consultar con el agente de ventas o el representante del edificio para obtener información más precisa sobre las amenidades y localizaciones cercanas. Si tienes alguna otra pregunta, por favor házmelo saber.' additional_kwargs={'refusal': None} response_metadata={'token_usage': {'completion_tokens': 67, 'prompt_tokens': 187, 'total_tokens': 254, 'completion_tokens_details': {'accepted_prediction_tokens': 0, 'audio_tokens': 0, 'reasoning_tokens': 0, 'rejected_prediction_tokens': 0}, 'prompt_tokens_details': {'audio_tokens': 0, 'cached_tokens': 0}}, 'model_name': 'gpt-4o-2024-08-06', 'system_fingerprint': 'fp_a288987b44', 'id': 'chatcmpl-BeP3X150HQFCQFZbCnExAUMXMBWhH', 'service_tier': 'default', 'finish_reason': 'stop', 'logprobs': None} id='run--cfe669c0-406c-4479-9dba-296fc2f9dcf8-0' usage_metadata={'input_tokens': 187, 'output_tokens': 67, 'total_tokens': 254, 'input_token_details': {'audio': 0, 'cache_read': 0}, 'output_token_details': {'audio': 0, 'reasoning': 0}}\n",
      "DIRIGIENDO FLUJO A:  FINISH\n",
      "================================\u001B[1m Human Message \u001B[0m=================================\n",
      "\n",
      "¿Qué hay en las cercanias del condominio?\n",
      "==================================\u001B[1m Ai Message \u001B[0m==================================\n",
      "Tool Calls:\n",
      "  info_retriever (call_N6ze0jRRKssnkVXkRrGoZBb5)\n",
      " Call ID: call_N6ze0jRRKssnkVXkRrGoZBb5\n",
      "  Args:\n",
      "    query: cercanias del condominio\n",
      "=================================\u001B[1m Tool Message \u001B[0m=================================\n",
      "Name: info_retriever\n",
      "\n",
      "\n",
      "==================================\u001B[1m Ai Message \u001B[0m==================================\n",
      "\n",
      "Para proporcionarte información precisa sobre las cercanías del condominio, necesito realizar una búsqueda en nuestros documentos. Un momento por favor.\n",
      "Tool Calls:\n",
      "  info_retriever (call_5UcDGzm19tYmR4iXnx9k5HPD)\n",
      " Call ID: call_5UcDGzm19tYmR4iXnx9k5HPD\n",
      "  Args:\n",
      "    query: cercanías del condominio\n",
      "=================================\u001B[1m Tool Message \u001B[0m=================================\n",
      "Name: info_retriever\n",
      "\n",
      "\n",
      "==================================\u001B[1m Ai Message \u001B[0m==================================\n",
      "\n",
      "Parece que no tengo información específica sobre las cercanías del condominio en este momento. Si necesitas detalles adicionales, te recomendaría consultar con el agente de ventas o el representante del edificio para obtener información más precisa sobre las amenidades y localizaciones cercanas. Si tienes alguna otra pregunta, por favor házmelo saber.\n"
     ]
    }
   ],
   "execution_count": 147
  },
  {
   "metadata": {},
   "cell_type": "code",
   "outputs": [],
   "execution_count": null,
   "source": "",
   "id": "f70725ea047803cb"
  }
 ],
 "metadata": {
  "kernelspec": {
   "display_name": "Python 3",
   "language": "python",
   "name": "python3"
  },
  "language_info": {
   "codemirror_mode": {
    "name": "ipython",
    "version": 2
   },
   "file_extension": ".py",
   "mimetype": "text/x-python",
   "name": "python",
   "nbconvert_exporter": "python",
   "pygments_lexer": "ipython2",
   "version": "2.7.6"
  }
 },
 "nbformat": 4,
 "nbformat_minor": 5
}
