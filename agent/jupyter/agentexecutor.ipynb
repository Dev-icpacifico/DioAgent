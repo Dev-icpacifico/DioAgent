{
 "cells": [
  {
   "cell_type": "code",
   "id": "initial_id",
   "metadata": {
    "collapsed": true,
    "ExecuteTime": {
     "end_time": "2025-06-03T20:32:52.353685Z",
     "start_time": "2025-06-03T20:32:46.103050Z"
    }
   },
   "source": [
    "%%capture --no-stderr\n",
    "%pip install --quiet -U langchain_openai langchain_core langgraph langchain_community langchain_anthropic langchain_experimental faiss-cpu tiktoken pypdf langchain openai langchain_anthropic langchain_experimental"
   ],
   "outputs": [
    {
     "name": "stderr",
     "output_type": "stream",
     "text": [
      "\n",
      "[notice] A new release of pip is available: 23.2.1 -> 25.1.1\n",
      "[notice] To update, run: python.exe -m pip install --upgrade pip\n"
     ]
    }
   ],
   "execution_count": 1
  },
  {
   "metadata": {
    "ExecuteTime": {
     "end_time": "2025-06-03T20:33:22.962450Z",
     "start_time": "2025-06-03T20:33:22.949925Z"
    }
   },
   "cell_type": "code",
   "source": [
    "# Importación de librerias\n",
    "from langchain.agents.agent import AgentExecutor\n",
    "\n",
    "# LangChain\n",
    "from langchain_openai import ChatOpenAI, OpenAIEmbeddings\n",
    "from langchain.tools.retriever import create_retriever_tool\n",
    "from langchain.vectorstores import FAISS\n",
    "from langchain_text_splitters import RecursiveCharacterTextSplitter\n",
    "from langchain_community.document_loaders import PyPDFLoader\n",
    "from langchain_core.prompts import ChatPromptTemplate\n",
    "from langchain_core.messages import AIMessage\n",
    "\n",
    "# Utilidades\n",
    "from typing import TypedDict, Optional, Dict, List, Literal, Annotated\n",
    "from dotenv import load_dotenv, find_dotenv\n",
    "import tiktoken\n",
    "from IPython.display import Image, display"
   ],
   "id": "b766e279a2eb23d3",
   "outputs": [],
   "execution_count": 4
  },
  {
   "metadata": {
    "ExecuteTime": {
     "end_time": "2025-06-03T20:33:24.557669Z",
     "start_time": "2025-06-03T20:33:24.551229Z"
    }
   },
   "cell_type": "code",
   "source": [
    "# Carga de variables de entorno\n",
    "dotenv_path = find_dotenv()\n",
    "load_dotenv(dotenv_path)"
   ],
   "id": "faf5d5e7dda508f2",
   "outputs": [
    {
     "data": {
      "text/plain": [
       "True"
      ]
     },
     "execution_count": 5,
     "metadata": {},
     "output_type": "execute_result"
    }
   ],
   "execution_count": 5
  },
  {
   "metadata": {},
   "cell_type": "code",
   "outputs": [],
   "execution_count": null,
   "source": [
    "def count_tokens_in_docs(docs, model_name=\"gpt-4o\"):\n",
    "    \"\"\"\n",
    "    Calcula la cantidad total de tokens para una lista de documentos\n",
    "    usando la librería tiktoken.\n",
    "\n",
    "    :param docs: Lista de documentos (por ejemplo, la salida de un loader PDF).\n",
    "    :param model_name: Nombre del modelo para el que queremos simular el conteo.\n",
    "    :return: Número total de tokens en el contenido de los documentos.\n",
    "    \"\"\"\n",
    "    # Obtenemos la codificación que usa el modelo seleccionado\n",
    "    encoding = tiktoken.encoding_for_model(model_name)\n",
    "\n",
    "    total_tokens = 0\n",
    "    for doc in docs:\n",
    "        # doc.page_content es el texto de cada página/documento\n",
    "        text = doc.page_content\n",
    "        total_tokens += len(encoding.encode(text))\n",
    "\n",
    "    return total_tokens"
   ],
   "id": "96d424da031f826c"
  },
  {
   "metadata": {},
   "cell_type": "code",
   "outputs": [],
   "execution_count": null,
   "source": [
    "# 2. CARGA DEL PDF\n",
    "# ----------------------------------------------------------------------------\n",
    "file_path = \"guia_condominio_altavista_completa.pdf\"\n",
    "loader = PyPDFLoader(file_path)\n",
    "docs = loader.load()"
   ],
   "id": "e0407ec444b1f787"
  },
  {
   "metadata": {},
   "cell_type": "code",
   "outputs": [],
   "execution_count": null,
   "source": [
    "# Cantidad de documentos extraídos (páginas, secciones, etc. según PyPDFLoader)\n",
    "print(\"Número de docs cargados:\", len(docs))\n",
    "\n",
    "# Opcional: vista previa de los primeros 100 caracteres de la primera página\n",
    "print(\"Preview contenido:\", docs[0].page_content[0:100])\n",
    "print(\"Metadata:\", docs[0].metadata)"
   ],
   "id": "6563286eb7d3b560"
  },
  {
   "metadata": {},
   "cell_type": "code",
   "outputs": [],
   "execution_count": null,
   "source": [
    "# 3. CONTAR TOKENS ANTES DE HACER NADA\n",
    "# ----------------------------------------------------------------------------\n",
    "tokens_en_documento = count_tokens_in_docs(docs, model_name=\"gpt-4o\")\n",
    "print(\"Tokens en el documento completo:\", tokens_en_documento)"
   ],
   "id": "bba0e2e8b87452b2"
  },
  {
   "metadata": {},
   "cell_type": "code",
   "outputs": [],
   "execution_count": null,
   "source": [
    "text_splitter = RecursiveCharacterTextSplitter(chunk_size=500, chunk_overlap=100)\n",
    "splits = text_splitter.split_documents(docs)"
   ],
   "id": "5b212bfce2fed73f"
  },
  {
   "metadata": {},
   "cell_type": "code",
   "outputs": [],
   "execution_count": null,
   "source": [
    "# Crea los embeddings\n",
    "embeddings = OpenAIEmbeddings()\n",
    "vectorstore = FAISS.from_documents(splits, embeddings)\n",
    "\n",
    "# Crea el retriever\n",
    "# retriever = vectorstore.as_retriever(search_kwargs={\"k\": 3})\n",
    "retriever = vectorstore.as_retriever(search_kwargs={\"k\": 10, \"score_threshold\": 0.3})"
   ],
   "id": "76562b57a01a19b3"
  },
  {
   "metadata": {},
   "cell_type": "code",
   "outputs": [],
   "execution_count": null,
   "source": [
    "# Modelo utilizado\n",
    "llm = ChatOpenAI(model=\"gpt-4o\")\n"
   ],
   "id": "595b4226bcc08634"
  },
  {
   "metadata": {
    "ExecuteTime": {
     "end_time": "2025-06-03T20:37:02.113017Z",
     "start_time": "2025-06-03T20:36:47.349110Z"
    }
   },
   "cell_type": "code",
   "source": [
    "from langchain_core.messages import HumanMessage\n",
    "from langchain_openai import ChatOpenAI, OpenAIEmbeddings\n",
    "from langchain.vectorstores import FAISS\n",
    "from langchain.tools.retriever import create_retriever_tool\n",
    "from langchain.agents import create_tool_calling_agent, AgentExecutor\n",
    "from langchain_core.prompts import ChatPromptTemplate\n",
    "from langchain_community.document_loaders import PyPDFLoader\n",
    "from langchain_text_splitters import RecursiveCharacterTextSplitter\n",
    "\n",
    "# --- Cargar el PDF y construir el retriever ---\n",
    "pdf_path = \"guia_condominio_altavista_completa.pdf\"\n",
    "loader = PyPDFLoader(pdf_path)\n",
    "docs = loader.load()\n",
    "\n",
    "text_splitter = RecursiveCharacterTextSplitter(chunk_size=1000, chunk_overlap=100)\n",
    "splits = text_splitter.split_documents(docs)\n",
    "\n",
    "embeddings = OpenAIEmbeddings()\n",
    "vectorstore = FAISS.from_documents(splits, embeddings)\n",
    "retriever = vectorstore.as_retriever(search_kwargs={\"k\": 4})\n",
    "\n",
    "# --- Crear el tool con el retriever ---\n",
    "retriever_tool = create_retriever_tool(\n",
    "    retriever,\n",
    "    name=\"info_departamentos\",\n",
    "    description=\"Usa este tool para responder preguntas sobre el condominio Altavista, incluyendo departamentos, modelos, precios, orientación, bodegas, estacionamientos y fechas de entrega.\"\n",
    ")\n",
    "\n",
    "tools = [retriever_tool]\n",
    "\n",
    "# --- Crear el agente ---\n",
    "llm = ChatOpenAI(model=\"gpt-4o\", temperature=0)\n",
    "prompt = ChatPromptTemplate.from_messages([\n",
    "    (\"system\",\n",
    "     \"Eres un asistente virtual que responde exclusivamente en base al documento del condominio Altavista. Usa herramientas si es necesario para encontrar información relevante.\"),\n",
    "    (\"human\", \"{input}\"),\n",
    "    (\"placeholder\", \"{agent_scratchpad}\")\n",
    "])\n",
    "\n",
    "agent = create_tool_calling_agent(llm, tools, prompt)\n",
    "executor = AgentExecutor(agent=agent, tools=tools, verbose=True)\n",
    "\n",
    "# --- Probar ---\n",
    "if __name__ == \"__main__\":\n",
    "    pregunta = input(\"👤 Usuario: \")\n",
    "    respuesta = executor.invoke({\"input\": pregunta})\n",
    "    print(\"🤖 Agente:\", respuesta[\"output\"])\n"
   ],
   "id": "e56849351c4b5091",
   "outputs": [
    {
     "name": "stdout",
     "output_type": "stream",
     "text": [
      "\n",
      "\n",
      "\u001B[1m> Entering new AgentExecutor chain...\u001B[0m\n",
      "\u001B[32;1m\u001B[1;3m\n",
      "Invoking: `info_departamentos` with `{'query': 'ubicación del proyecto Altavista'}`\n",
      "\n",
      "\n",
      "\u001B[0m\u001B[36;1m\u001B[1;3mGuía Informativa - Condominio Altavista Norte\n",
      "1. Introducción\n",
      "Bienvenido a la guía informativa del proyecto Altavista Norte, un moderno condominio diseñado para ofrecer\n",
      "comodidad, conectividad y una excelente calidad de vida. Este documento entrega información esencial\n",
      "sobre el condominio, los departamentos disponibles, valores referenciales, formas de financiamiento,\n",
      "características de construcción y respuestas a preguntas frecuentes de nuestros clientes potenciales. Está\n",
      "pensado para responder a todas las inquietudes que pueden surgir en tu proceso de compra.\n",
      "2. Información del Condominio\n",
      "Nombre del proyecto: Altavista Norte\n",
      "Dirección: Av. Los Valles 1432, Maipú, Región Metropolitana, Santiago.\n",
      "Cantidad de torres: 4 torres de 15 pisos cada una.\n",
      "Cantidad de departamentos por torre: 10 por piso (600 en total).\n",
      "Orientaciones disponibles: norte, oriente, poniente.\n",
      "Áreas comunes: Salón multiuso, gimnasio equipado, lavandería, zona de coworking, quinchos, áreas verdes,\n",
      "juegos infantiles.\n",
      "\n",
      "Guía Informativa - Condominio Altavista Norte\n",
      "Torre 3: Entrega en agosto 2025.\n",
      "Torre 4: Entrega en enero 2026.\n",
      "Puedes elegir unidad por torre, piso y orientación según disponibilidad.\n",
      "Contamos con departamento piloto modelo C (65 m²). Visitas agendadas de lunes a sábado de 10:00 a\n",
      "17:00.\n",
      "8. Preguntas Frecuentes\n",
      "¿Se puede arrendar luego de la compra? Sí, no hay restricciones.\n",
      "¿Incluye cocina equipada? Sí, horno, campana, encimera y muebles.\n",
      "¿Hay estacionamiento para visitas? Sí, disponible por torre.\n",
      "¿Puedo elegir terminaciones? No, las terminaciones son estándar.\n",
      "¿Cuánto son los gastos comunes? Aprox. $60.000 - $75.000 según modelo.\n",
      "¿Cómo puedo reservar? Con pago de UF 10 y firma de promesa.\n",
      "¿Qué pasa si me arrepiento? Se puede anular la reserva bajo condiciones contractuales.\n",
      "¿Dónde ver planos? En nuestro sitio web o directo con el ejecutivo.\n",
      "\n",
      "Guía Informativa - Condominio Altavista Norte\n",
      "termopanel, encimera vitrocerámica y piso fotolaminado.\n",
      "4. Precios y Promociones\n",
      "Modelo A: UF 2.300\n",
      "Modelo B: UF 2.800\n",
      "Modelo C: UF 3.300\n",
      "Modelo D: UF 3.900\n",
      "Valores varían según disponibilidad, orientación y piso. Se pueden aplicar descuentos por pago contado o\n",
      "reserva anticipada.\n",
      "Promociones actuales: pie en 12 cuotas sin interés, 50% descuento en bodega adicional, estacionamiento\n",
      "gratis en modelos C y D.\n",
      "5. Bodegas y Estacionamientos\n",
      "Todos los modelos incluyen al menos 1 bodega o estacionamiento.\n",
      "Modelos C y D incluyen ambos.\n",
      "Es posible adquirir bodegas adicionales desde UF 80 y estacionamientos desde UF 280.\n",
      "Las bodegas están ubicadas en subterráneo -1 y -2.\n",
      "Estacionamientos están distribuidos en superficie y subterráneo, todos con acceso controlado y techados en\n",
      "su mayoría.\n",
      "6. Financiamiento\n",
      "Trabajamos con BancoEstado, BCI, Santander, Scotiabank y otras entidades.\n",
      "Ofrecemos asesoría gratuita para gestionar tu crédito hipotecario.\n",
      "\n",
      "juegos infantiles.\n",
      "Seguridad: Conserjería 24 horas, acceso controlado, cámaras de vigilancia, portón eléctrico.\n",
      "Estacionamientos para visitas: disponibles en cada torre.\n",
      "Conectividad: Próximo a metro Del Sol, Av. Pajaritos, Autopista Vespucio Sur.\n",
      "Cercanías: Universidad de las Américas (800 m), Jumbo (500 m), CESFAM, Mall Arauco Maipú (5 min),\n",
      "colegios, farmacias y bancos.\n",
      "3. Modelos de Departamentos\n",
      "Modelo A: 1 dormitorio / 1 baño - 40 m² - Torre 1, pisos 2-15 - Orientación norte - Incluye 1 bodega.\n",
      "Modelo B: 2 dormitorios / 1 baño - 55 m² - Torre 2, pisos 3-12 - Orientación poniente - 1 estacionamiento\n",
      "incluido.\n",
      "Modelo C: 2 dormitorios / 2 baños - 65 m² - Torre 3, pisos 4-15 - Orientación oriente - Incluye bodega y\n",
      "estacionamiento.\n",
      "Modelo D: 3 dormitorios / 2 baños - 75 m² - Torre 4, pisos 5-15 - Orientación norte - 2 estacionamientos\n",
      "incluidos.\n",
      "Todos los departamentos tienen cocina americana equipada, balcón, conexión a lavadora, ventanas\u001B[0m\u001B[32;1m\u001B[1;3mEl proyecto Altavista Norte está ubicado en Av. Los Valles 1432, Maipú, Región Metropolitana, Santiago.\u001B[0m\n",
      "\n",
      "\u001B[1m> Finished chain.\u001B[0m\n",
      "🤖 Agente: El proyecto Altavista Norte está ubicado en Av. Los Valles 1432, Maipú, Región Metropolitana, Santiago.\n"
     ]
    }
   ],
   "execution_count": 11
  },
  {
   "metadata": {},
   "cell_type": "code",
   "outputs": [],
   "execution_count": null,
   "source": "",
   "id": "f2bc97307e8b2ea"
  }
 ],
 "metadata": {
  "kernelspec": {
   "display_name": "Python 3",
   "language": "python",
   "name": "python3"
  },
  "language_info": {
   "codemirror_mode": {
    "name": "ipython",
    "version": 2
   },
   "file_extension": ".py",
   "mimetype": "text/x-python",
   "name": "python",
   "nbconvert_exporter": "python",
   "pygments_lexer": "ipython2",
   "version": "2.7.6"
  }
 },
 "nbformat": 4,
 "nbformat_minor": 5
}
